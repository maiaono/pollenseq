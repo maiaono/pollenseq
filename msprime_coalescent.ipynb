{
 "cells": [
  {
   "cell_type": "code",
   "execution_count": 2,
   "metadata": {},
   "outputs": [],
   "source": [
    "import msprime as ms"
   ]
  },
  {
   "cell_type": "code",
   "execution_count": 3,
   "metadata": {},
   "outputs": [
    {
     "name": "stdout",
     "output_type": "stream",
     "text": [
      "        22                 \n",
      "  ┏━━━━━┻━━━━━┓            \n",
      "  ┃           21           \n",
      "  ┃         ┏━┻━┓          \n",
      "  ┃         ┃   20         \n",
      "  ┃         ┃  ┏┻━┓        \n",
      "  19        ┃  ┃  ┃        \n",
      "┏━┻━┓       ┃  ┃  ┃        \n",
      "┃   ┃       18 ┃  ┃        \n",
      "┃   ┃      ┏┻┓ ┃  ┃        \n",
      "┃   ┃      ┃ ┃ ┃  17       \n",
      "┃   ┃      ┃ ┃ ┃ ┏┻━┓      \n",
      "┃   ┃      ┃ ┃ ┃ ┃  16     \n",
      "┃   ┃      ┃ ┃ ┃ ┃ ┏┻━┓    \n",
      "┃   15     ┃ ┃ ┃ ┃ ┃  ┃    \n",
      "┃ ┏━┻━┓    ┃ ┃ ┃ ┃ ┃  ┃    \n",
      "┃ ┃   14   ┃ ┃ ┃ ┃ ┃  ┃    \n",
      "┃ ┃ ┏━┻┓   ┃ ┃ ┃ ┃ ┃  ┃    \n",
      "┃ ┃ ┃  ┃   ┃ ┃ ┃ ┃ ┃  13   \n",
      "┃ ┃ ┃  ┃   ┃ ┃ ┃ ┃ ┃ ┏┻┓   \n",
      "┃ ┃ ┃  12  ┃ ┃ ┃ ┃ ┃ ┃ ┃   \n",
      "┃ ┃ ┃ ┏┻┓  ┃ ┃ ┃ ┃ ┃ ┃ ┃   \n",
      "1 7 6 4 11 0 8 3 5 2 9 10  \n",
      "\n"
     ]
    }
   ],
   "source": [
    "treeseq = ms.simulate(sample_size = 12, Ne = 1000)\n",
    "\n",
    "tree = treeseq.first()\n",
    "print(tree.draw(format=\"unicode\"))"
   ]
  },
  {
   "cell_type": "code",
   "execution_count": 4,
   "metadata": {},
   "outputs": [
    {
     "name": "stdout",
     "output_type": "stream",
     "text": [
      "node 0: time = 0.0\n",
      "817.3183001302407\n",
      "node 18: time = 817.3183001302407\n",
      "125.9314706203644\n",
      "node 21: time = 943.2497707506051\n",
      "1829.5930663366885\n"
     ]
    }
   ],
   "source": [
    "u = 0\n",
    "while tree.parent(u) != ms.NULL_NODE:\n",
    "    print(\"node {}: time = {}\".format(u, tree.time(u)))\n",
    "    print(tree.branch_length(u))\n",
    "    u = tree.parent(u)\n",
    "#     print(tree.branch_length(u))\n",
    "#what do the nodes correspond to (speciation events?)? \n",
    "#why does it not show for 13, 14, 12, or 16?"
   ]
  },
  {
   "cell_type": "code",
   "execution_count": 5,
   "metadata": {},
   "outputs": [
    {
     "name": "stdout",
     "output_type": "stream",
     "text": [
      "9935.273646148973\n"
     ]
    }
   ],
   "source": [
    "print(tree.total_branch_length)"
   ]
  },
  {
   "cell_type": "code",
   "execution_count": 6,
   "metadata": {
    "scrolled": true
   },
   "outputs": [
    {
     "name": "stdout",
     "output_type": "stream",
     "text": [
      "--------------------\n",
      "tree 0: interval = (0.0, 1098.2223369875508)\n",
      "    13     \n",
      " ┏━━┻━┓    \n",
      " ┃    10   \n",
      " ┃  ┏━┻┓   \n",
      " 7  ┃  ┃   \n",
      "┏┻┓ ┃  ┃   \n",
      "┃ ┃ ┃  6   \n",
      "┃ ┃ ┃ ┏┻┓  \n",
      "3 4 0 1 2  \n",
      "\n",
      "--------------------\n",
      "tree 1: interval = (1098.2223369875508, 1126.2276352211431)\n",
      "    14     \n",
      " ┏━━┻━┓    \n",
      " ┃    10   \n",
      " ┃  ┏━┻┓   \n",
      " 7  ┃  ┃   \n",
      "┏┻┓ ┃  ┃   \n",
      "┃ ┃ ┃  6   \n",
      "┃ ┃ ┃ ┏┻┓  \n",
      "3 4 0 1 2  \n",
      "\n",
      "--------------------\n",
      "tree 2: interval = (1126.2276352211431, 2011.0997352774953)\n",
      "    18     \n",
      " ┏━━┻━┓    \n",
      " ┃    10   \n",
      " ┃  ┏━┻┓   \n",
      " 7  ┃  ┃   \n",
      "┏┻┓ ┃  ┃   \n",
      "┃ ┃ ┃  6   \n",
      "┃ ┃ ┃ ┏┻┓  \n",
      "3 4 0 1 2  \n",
      "\n",
      "--------------------\n",
      "tree 3: interval = (2011.0997352774953, 2202.7675789321697)\n",
      "     18    \n",
      "  ┏━━┻━━┓  \n",
      "  10    ┃  \n",
      "┏━┻━┓   ┃  \n",
      "┃   6   ┃  \n",
      "┃ ┏━┻┓  ┃  \n",
      "┃ ┃  5  ┃  \n",
      "┃ ┃ ┏┻┓ ┃  \n",
      "0 1 2 3 4  \n",
      "\n",
      "--------------------\n",
      "tree 4: interval = (2202.7675789321697, 3062.7825560660062)\n",
      "  17       \n",
      "┏━┻━┓      \n",
      "┃   10     \n",
      "┃ ┏━┻━┓    \n",
      "┃ ┃   6    \n",
      "┃ ┃ ┏━┻┓   \n",
      "┃ ┃ ┃  5   \n",
      "┃ ┃ ┃ ┏┻┓  \n",
      "4 0 1 2 3  \n",
      "\n",
      "--------------------\n",
      "tree 5: interval = (3062.7825560660062, 3153.5142527784956)\n",
      "  11       \n",
      "┏━┻━┓      \n",
      "┃   10     \n",
      "┃ ┏━┻━┓    \n",
      "┃ ┃   6    \n",
      "┃ ┃ ┏━┻┓   \n",
      "┃ ┃ ┃  5   \n",
      "┃ ┃ ┃ ┏┻┓  \n",
      "4 0 1 2 3  \n",
      "\n",
      "--------------------\n",
      "tree 6: interval = (3153.5142527784956, 3748.7057279210317)\n",
      "  12       \n",
      "┏━┻━┓      \n",
      "┃   10     \n",
      "┃ ┏━┻━┓    \n",
      "┃ ┃   6    \n",
      "┃ ┃ ┏━┻┓   \n",
      "┃ ┃ ┃  5   \n",
      "┃ ┃ ┃ ┏┻┓  \n",
      "4 0 1 2 3  \n",
      "\n",
      "--------------------\n",
      "tree 7: interval = (3748.7057279210317, 4674.425503396063)\n",
      "  11       \n",
      "┏━┻━┓      \n",
      "┃   10     \n",
      "┃ ┏━┻━┓    \n",
      "┃ ┃   6    \n",
      "┃ ┃ ┏━┻┓   \n",
      "┃ ┃ ┃  5   \n",
      "┃ ┃ ┃ ┏┻┓  \n",
      "4 0 1 2 3  \n",
      "\n",
      "--------------------\n",
      "tree 8: interval = (4674.425503396063, 6425.191749917621)\n",
      "  12       \n",
      "┏━┻━┓      \n",
      "┃   10     \n",
      "┃ ┏━┻━┓    \n",
      "┃ ┃   6    \n",
      "┃ ┃ ┏━┻┓   \n",
      "┃ ┃ ┃  5   \n",
      "┃ ┃ ┃ ┏┻┓  \n",
      "4 0 1 2 3  \n",
      "\n",
      "--------------------\n",
      "tree 9: interval = (6425.191749917621, 6546.328001782839)\n",
      "  12       \n",
      "┏━┻━┓      \n",
      "┃   8      \n",
      "┃ ┏━┻━┓    \n",
      "┃ ┃   6    \n",
      "┃ ┃ ┏━┻┓   \n",
      "┃ ┃ ┃  5   \n",
      "┃ ┃ ┃ ┏┻┓  \n",
      "0 4 1 2 3  \n",
      "\n",
      "--------------------\n",
      "tree 10: interval = (6546.328001782839, 7918.478478192928)\n",
      "  16       \n",
      "┏━┻━┓      \n",
      "┃   8      \n",
      "┃ ┏━┻━┓    \n",
      "┃ ┃   6    \n",
      "┃ ┃ ┏━┻┓   \n",
      "┃ ┃ ┃  5   \n",
      "┃ ┃ ┃ ┏┻┓  \n",
      "0 4 1 2 3  \n",
      "\n",
      "--------------------\n",
      "tree 11: interval = (7918.478478192928, 8123.439119226169)\n",
      "  15       \n",
      "┏━┻━┓      \n",
      "┃   8      \n",
      "┃ ┏━┻━┓    \n",
      "┃ ┃   6    \n",
      "┃ ┃ ┏━┻┓   \n",
      "┃ ┃ ┃  5   \n",
      "┃ ┃ ┃ ┏┻┓  \n",
      "0 4 1 2 3  \n",
      "\n",
      "--------------------\n",
      "tree 12: interval = (8123.439119226169, 10000.0)\n",
      "  9        \n",
      "┏━┻━┓      \n",
      "┃   8      \n",
      "┃ ┏━┻━┓    \n",
      "┃ ┃   6    \n",
      "┃ ┃ ┏━┻┓   \n",
      "┃ ┃ ┃  5   \n",
      "┃ ┃ ┃ ┏┻┓  \n",
      "0 4 1 2 3  \n",
      "\n"
     ]
    }
   ],
   "source": [
    "# trees given recombination rate\n",
    "newtree = ms.simulate(\n",
    "    sample_size=5,\n",
    "    Ne = 10000,\n",
    "    length=1e4,\n",
    "    recombination_rate=2e-8)\n",
    "\n",
    "for tree in newtree.trees():\n",
    "    print(\"-\" * 20)\n",
    "    print(\"tree {}: interval = {}\".format(tree.index, tree.interval))\n",
    "    print(tree.draw(format=\"unicode\"))\n",
    "# trees() method iterates over trees"
   ]
  },
  {
   "cell_type": "code",
   "execution_count": 7,
   "metadata": {},
   "outputs": [
    {
     "name": "stdout",
     "output_type": "stream",
     "text": [
      "Mutation @ position 1376.73 over node 3\n",
      "Mutation @ position 5100.19 over node 2\n",
      "Mutation @ position 22495.24 over node 3\n",
      "Mutation @ position 30040.80 over node 6\n",
      "Mutation @ position 45213.36 over node 3\n",
      "  8        \n",
      "┏━┻━━┓     \n",
      "┃    7     \n",
      "┃  ┏━┻━┓   \n",
      "┃  ┃   6   \n",
      "┃  ┃  ┏┻┓  \n",
      "┃  5  ┃ ┃  \n",
      "┃ ┏┻┓ ┃ ┃  \n",
      "3 1 4 0 2  \n",
      "\n"
     ]
    }
   ],
   "source": [
    "# dropping mutations\n",
    "tree_sequence = ms.simulate(\n",
    "    sample_size=5, Ne=1000, length=50e3, mutation_rate=2e-8, random_seed=40)\n",
    "tree = tree_sequence.first()\n",
    "for site in tree.sites():\n",
    "    for mutation in site.mutations:\n",
    "        print(\"Mutation @ position {:.2f} over node {}\".format(\n",
    "        site.position, mutation.node))\n",
    "        \n",
    "print(tree.draw(format=\"unicode\"))"
   ]
  },
  {
   "cell_type": "code",
   "execution_count": 8,
   "metadata": {},
   "outputs": [
    {
     "name": "stdout",
     "output_type": "stream",
     "text": [
      "0\t2432.768327416852\t('0', '1')\t[0 0 0 0 0 0 0 0 1 0 0 0 0 0 0 0 0 0 0 0]\n",
      "1\t2577.6939414924095\t('0', '1')\t[1 0 1 1 1 1 0 1 1 1 1 1 1 1 1 1 1 1 1 1]\n",
      "2\t2844.682702049562\t('0', '1')\t[0 0 0 1 1 0 0 0 0 0 0 0 0 0 0 0 0 1 0 0]\n",
      "3\t4784.266628557816\t('0', '1')\t[0 0 0 0 0 0 0 0 1 0 0 0 0 0 0 0 0 0 0 0]\n"
     ]
    }
   ],
   "source": [
    "# accessing the actual sequence data with variants()\n",
    "tree_var = ms.simulate(\n",
    "    sample_size = 20,\n",
    "    Ne = 1e4,\n",
    "    length = 5e3,\n",
    "    recombination_rate=2e-8,\n",
    "    mutation_rate = 2e-8,\n",
    "    random_seed = 10)\n",
    "\n",
    "for variant in tree_var.variants():\n",
    "    print(\n",
    "        variant.site.id,\n",
    "        variant.site.position,\n",
    "        variant.alleles,\n",
    "        variant.genotypes, sep=\"\\t\")\n",
    "# so each 0/1 an individual? and one column corresponds to all one sample"
   ]
  },
  {
   "cell_type": "code",
   "execution_count": 9,
   "metadata": {},
   "outputs": [
    {
     "data": {
      "text/plain": [
       "array([[0, 0, 0, 0, 0, 0, 0, 0, 1, 0, 0, 0, 0, 0, 0, 0, 0, 0, 0, 0],\n",
       "       [1, 0, 1, 1, 1, 1, 0, 1, 1, 1, 1, 1, 1, 1, 1, 1, 1, 1, 1, 1],\n",
       "       [0, 0, 0, 1, 1, 0, 0, 0, 0, 0, 0, 0, 0, 0, 0, 0, 0, 1, 0, 0],\n",
       "       [0, 0, 0, 0, 0, 0, 0, 0, 1, 0, 0, 0, 0, 0, 0, 0, 0, 0, 0, 0]],\n",
       "      dtype=uint8)"
      ]
     },
     "execution_count": 9,
     "metadata": {},
     "output_type": "execute_result"
    }
   ],
   "source": [
    "# can store the matrix (^) in a variable\n",
    "mtrx = tree_var.genotype_matrix()\n",
    "mtrx\n",
    "# what does dtype mean?(\"dtype=uint8\")"
   ]
  },
  {
   "cell_type": "code",
   "execution_count": 16,
   "metadata": {},
   "outputs": [],
   "source": [
    "# historical samples method \"defined\"\n",
    "def historical_samples_example(): \n",
    "    samples = [\n",
    "        ms.Sample(population=0, time=0),\n",
    "        ms.Sample(0, 0),  # Or, we can use positional arguments.\n",
    "        ms.Sample(0, 1.0)\n",
    "    ]\n",
    "    tree_seq = ms.simulate(samples=samples)\n",
    "    tree = tree_seq.first()\n",
    "    for u in tree.nodes():\n",
    "        print(u, tree.parent(u), tree.time(u), sep=\"\\t\")\n",
    "    print(tree.draw(format=\"unicode\"))"
   ]
  },
  {
   "cell_type": "code",
   "execution_count": 17,
   "metadata": {},
   "outputs": [
    {
     "name": "stdout",
     "output_type": "stream",
     "text": [
      "4\t-1\t1.4842482894926365\n",
      "2\t4\t1.0\n",
      "3\t4\t0.6101590925119755\n",
      "0\t3\t0.0\n",
      "1\t3\t0.0\n",
      "  4    \n",
      "┏━┻┓   \n",
      "2  ┃   \n",
      "   ┃   \n",
      "   3   \n",
      "  ┏┻┓  \n",
      "  0 1  \n",
      "\n"
     ]
    }
   ],
   "source": [
    "historical_samples_example()"
   ]
  },
  {
   "cell_type": "code",
   "execution_count": 18,
   "metadata": {},
   "outputs": [
    {
     "name": "stdout",
     "output_type": "stream",
     "text": [
      "              mean              variance\n",
      "Observed      14.13633\t\t52.87072413110001\n",
      "Analytical    14.14484\t\t52.63903\n"
     ]
    }
   ],
   "source": [
    "# replication: to test validity of the simulation\n",
    "\n",
    "import msprime\n",
    "import numpy as np\n",
    "\n",
    "def segregating_sites_example(n, theta, num_replicates):\n",
    "    S = np.zeros(num_replicates)\n",
    "    replicates = msprime.simulate(\n",
    "                    Ne=0.5,\n",
    "        sample_size=n,\n",
    "        mutation_rate=theta / 2,\n",
    "        num_replicates=num_replicates)\n",
    "    for j, tree_sequence in enumerate(replicates):\n",
    "        S[j] = tree_sequence.num_sites\n",
    "    # Now, calculate the analytical predictions\n",
    "    S_mean_a = np.sum(1 / np.arange(1, n)) * theta\n",
    "    S_var_a = (\n",
    "        theta * np.sum(1 / np.arange(1, n)) +\n",
    "        theta**2 * np.sum(1 / np.arange(1, n)**2))\n",
    "    print(\"              mean              variance\")\n",
    "    print(\"Observed      {}\\t\\t{}\".format(np.mean(S), np.var(S)))\n",
    "    print(\"Analytical    {:.5f}\\t\\t{:.5f}\".format(S_mean_a, S_var_a))\n",
    "    \n",
    "segregating_sites_example(10, 5, 100000)"
   ]
  },
  {
   "cell_type": "code",
   "execution_count": null,
   "metadata": {},
   "outputs": [],
   "source": [
    "# recombination maps (skipped pop structure and demography)\n",
    "# where to find data....\n"
   ]
  }
 ],
 "metadata": {
  "kernelspec": {
   "display_name": "Python 3",
   "language": "python",
   "name": "python3"
  },
  "language_info": {
   "codemirror_mode": {
    "name": "ipython",
    "version": 3
   },
   "file_extension": ".py",
   "mimetype": "text/x-python",
   "name": "python",
   "nbconvert_exporter": "python",
   "pygments_lexer": "ipython3",
   "version": "3.6.4"
  }
 },
 "nbformat": 4,
 "nbformat_minor": 2
}
